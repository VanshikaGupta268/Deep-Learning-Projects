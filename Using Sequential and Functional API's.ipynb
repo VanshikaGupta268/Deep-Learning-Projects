{
  "nbformat": 4,
  "nbformat_minor": 0,
  "metadata": {
    "colab": {
      "provenance": [],
      "collapsed_sections": []
    },
    "kernelspec": {
      "name": "python3",
      "display_name": "Python 3"
    },
    "language_info": {
      "name": "python"
    },
    "accelerator": "GPU",
    "gpuClass": "standard"
  },
  "cells": [
    {
      "cell_type": "code",
      "execution_count": 1,
      "metadata": {
        "id": "Ge5eYgLZ7c9k"
      },
      "outputs": [],
      "source": [
        "#importing libraries for computation\n",
        "import pandas as pd\n",
        "import numpy as np\n",
        "\n",
        "#importing libraries for visualization\n",
        "import matplotlib.pyplot as plt\n",
        "import seaborn as sns\n",
        "\n",
        "#importing the dataset\n",
        "from sklearn.datasets import fetch_california_housing\n",
        "\n",
        "#importing libraries for training,testing of model\n",
        "import tensorflow as tf\n",
        "from tensorflow import keras\n",
        "from sklearn.model_selection import train_test_split"
      ]
    },
    {
      "cell_type": "markdown",
      "source": [
        "Q2: Using the Scikit-Learn’s fetch_california_housing() function to download the California \n",
        "Housing Problem data. "
      ],
      "metadata": {
        "id": "sjqq6MxZloWD"
      }
    },
    {
      "cell_type": "code",
      "source": [
        "#loading the dataset into X and y\n",
        "X,y=fetch_california_housing(return_X_y=True) #return_X_y help us to store the data as 'features' and 'target'"
      ],
      "metadata": {
        "id": "3WI08QNO8K2m"
      },
      "execution_count": 2,
      "outputs": []
    },
    {
      "cell_type": "code",
      "source": [
        "#Shape of X \n",
        "X.shape"
      ],
      "metadata": {
        "colab": {
          "base_uri": "https://localhost:8080/"
        },
        "id": "TYxTpU3p_4qP",
        "outputId": "eadb483c-ab4e-49b3-e702-6cc1d735bd85"
      },
      "execution_count": 3,
      "outputs": [
        {
          "output_type": "execute_result",
          "data": {
            "text/plain": [
              "(20640, 8)"
            ]
          },
          "metadata": {},
          "execution_count": 3
        }
      ]
    },
    {
      "cell_type": "code",
      "source": [
        "#data type of X\n",
        "X.dtype"
      ],
      "metadata": {
        "colab": {
          "base_uri": "https://localhost:8080/"
        },
        "id": "sAKmaLqXexYN",
        "outputId": "ebb070a7-e027-4750-fa82-d0e1616d5d87"
      },
      "execution_count": 4,
      "outputs": [
        {
          "output_type": "execute_result",
          "data": {
            "text/plain": [
              "dtype('float64')"
            ]
          },
          "metadata": {},
          "execution_count": 4
        }
      ]
    },
    {
      "cell_type": "code",
      "source": [
        "#importing the standard scaler \n",
        "#Standard scaler-removes the mean and scales each feature/variable to unit variance\n",
        "#Standard scaling is necessary because the range of attributes is very scattered\n",
        "from sklearn.preprocessing import StandardScaler\n",
        "scaler=StandardScaler()\n",
        "\n",
        "#Applying the scaling operation to the dataset\n",
        "X=scaler.fit_transform(X)"
      ],
      "metadata": {
        "id": "pa9oxVfy81fV"
      },
      "execution_count": 5,
      "outputs": []
    },
    {
      "cell_type": "code",
      "source": [
        "#Splitting the dataset into train and test\n",
        "X_train, X_test, y_train, y_test = train_test_split(X, y, test_size = 0.3, random_state = 0)"
      ],
      "metadata": {
        "id": "iK7uOP8G9kGg"
      },
      "execution_count": 6,
      "outputs": []
    },
    {
      "cell_type": "markdown",
      "source": [
        "Q3:Using the sequential API build a regression MLP ( to make predications. Model can have 1 \n",
        "hidden layer with 30 units. Visualize the MSE for 20 epochs. Comment on overall accuracy."
      ],
      "metadata": {
        "id": "6r9sbYU8iOEd"
      }
    },
    {
      "cell_type": "code",
      "source": [
        "#building the model\n",
        "\n",
        "model1=tf.keras.models.Sequential()\n",
        "\n",
        "#specifying the input shape\n",
        "model1.add(tf.keras.Input(shape=(8,)))\n",
        "\n",
        "#adding the layers\n",
        "model1.add(tf.keras.layers.Dense(30, activation=\"relu\"))\n",
        "model1.add(tf.keras.layers.Dense(1, activation=\"linear\"))"
      ],
      "metadata": {
        "id": "E_H0AijLBdsF"
      },
      "execution_count": 7,
      "outputs": []
    },
    {
      "cell_type": "code",
      "source": [
        "#Compiling the above model\n",
        "opt=tf.keras.optimizers.Adam(learning_rate=0.001) #if learning rate is not specified, it takes the default value = 0.001\n",
        "model1.compile(loss='mean_squared_error', optimizer=opt, metrics=[tf.keras.metrics.RootMeanSquaredError()])\n"
      ],
      "metadata": {
        "id": "0vTQh1dPB5pI"
      },
      "execution_count": 8,
      "outputs": []
    },
    {
      "cell_type": "code",
      "source": [
        "#fitting the model\n",
        "history_m1=model1.fit(X_train,y_train,validation_data=(X_train,y_train), validation_split=0.2,epochs=20, batch_size=32)"
      ],
      "metadata": {
        "colab": {
          "base_uri": "https://localhost:8080/"
        },
        "id": "eIVb67HPDy1Q",
        "outputId": "481c3bb6-ec01-48e6-a07f-7bbd6c99cd47"
      },
      "execution_count": 9,
      "outputs": [
        {
          "output_type": "stream",
          "name": "stdout",
          "text": [
            "Epoch 1/20\n",
            "362/362 [==============================] - 7s 7ms/step - loss: 2.4916 - root_mean_squared_error: 1.5785 - val_loss: 0.7558 - val_root_mean_squared_error: 0.8694\n",
            "Epoch 2/20\n",
            "362/362 [==============================] - 2s 5ms/step - loss: 0.6504 - root_mean_squared_error: 0.8065 - val_loss: 0.5327 - val_root_mean_squared_error: 0.7299\n",
            "Epoch 3/20\n",
            "362/362 [==============================] - 2s 6ms/step - loss: 0.5109 - root_mean_squared_error: 0.7148 - val_loss: 0.4374 - val_root_mean_squared_error: 0.6614\n",
            "Epoch 4/20\n",
            "362/362 [==============================] - 2s 7ms/step - loss: 0.4514 - root_mean_squared_error: 0.6719 - val_loss: 0.4033 - val_root_mean_squared_error: 0.6351\n",
            "Epoch 5/20\n",
            "362/362 [==============================] - 1s 4ms/step - loss: 0.4235 - root_mean_squared_error: 0.6508 - val_loss: 0.3911 - val_root_mean_squared_error: 0.6254\n",
            "Epoch 6/20\n",
            "362/362 [==============================] - 1s 4ms/step - loss: 0.4080 - root_mean_squared_error: 0.6388 - val_loss: 0.3787 - val_root_mean_squared_error: 0.6154\n",
            "Epoch 7/20\n",
            "362/362 [==============================] - 1s 3ms/step - loss: 0.3988 - root_mean_squared_error: 0.6315 - val_loss: 0.3737 - val_root_mean_squared_error: 0.6113\n",
            "Epoch 8/20\n",
            "362/362 [==============================] - 1s 3ms/step - loss: 0.3954 - root_mean_squared_error: 0.6288 - val_loss: 0.3695 - val_root_mean_squared_error: 0.6079\n",
            "Epoch 9/20\n",
            "362/362 [==============================] - 1s 3ms/step - loss: 0.3854 - root_mean_squared_error: 0.6208 - val_loss: 0.3622 - val_root_mean_squared_error: 0.6018\n",
            "Epoch 10/20\n",
            "362/362 [==============================] - 1s 3ms/step - loss: 0.3804 - root_mean_squared_error: 0.6168 - val_loss: 0.3585 - val_root_mean_squared_error: 0.5987\n",
            "Epoch 11/20\n",
            "362/362 [==============================] - 1s 3ms/step - loss: 0.3764 - root_mean_squared_error: 0.6135 - val_loss: 0.3527 - val_root_mean_squared_error: 0.5939\n",
            "Epoch 12/20\n",
            "362/362 [==============================] - 1s 4ms/step - loss: 0.3704 - root_mean_squared_error: 0.6086 - val_loss: 0.3503 - val_root_mean_squared_error: 0.5919\n",
            "Epoch 13/20\n",
            "362/362 [==============================] - 1s 4ms/step - loss: 0.3652 - root_mean_squared_error: 0.6043 - val_loss: 0.3435 - val_root_mean_squared_error: 0.5861\n",
            "Epoch 14/20\n",
            "362/362 [==============================] - 1s 4ms/step - loss: 0.3622 - root_mean_squared_error: 0.6018 - val_loss: 0.3409 - val_root_mean_squared_error: 0.5838\n",
            "Epoch 15/20\n",
            "362/362 [==============================] - 1s 3ms/step - loss: 0.3594 - root_mean_squared_error: 0.5995 - val_loss: 0.3364 - val_root_mean_squared_error: 0.5800\n",
            "Epoch 16/20\n",
            "362/362 [==============================] - 1s 3ms/step - loss: 0.3549 - root_mean_squared_error: 0.5957 - val_loss: 0.3342 - val_root_mean_squared_error: 0.5781\n",
            "Epoch 17/20\n",
            "362/362 [==============================] - 1s 4ms/step - loss: 0.3531 - root_mean_squared_error: 0.5942 - val_loss: 0.3337 - val_root_mean_squared_error: 0.5777\n",
            "Epoch 18/20\n",
            "362/362 [==============================] - 1s 3ms/step - loss: 0.3569 - root_mean_squared_error: 0.5974 - val_loss: 0.3277 - val_root_mean_squared_error: 0.5724\n",
            "Epoch 19/20\n",
            "362/362 [==============================] - 1s 3ms/step - loss: 0.3501 - root_mean_squared_error: 0.5917 - val_loss: 0.3340 - val_root_mean_squared_error: 0.5779\n",
            "Epoch 20/20\n",
            "362/362 [==============================] - 1s 3ms/step - loss: 0.3458 - root_mean_squared_error: 0.5880 - val_loss: 0.3243 - val_root_mean_squared_error: 0.5695\n"
          ]
        }
      ]
    },
    {
      "cell_type": "code",
      "source": [
        "#visualizing the training vs validation loss\n",
        "loss=history_m1.history['loss']\n",
        "val_loss=history_m1.history['val_loss']\n",
        "plt.plot(loss)\n",
        "plt.plot(val_loss)\n",
        "plt.title('Training and validation loss')\n",
        "plt.ylabel('loss')\n",
        "plt.xlabel('epoch')\n",
        "plt.legend(['train','validation'],loc='upper left')\n",
        "plt.show()"
      ],
      "metadata": {
        "colab": {
          "base_uri": "https://localhost:8080/",
          "height": 295
        },
        "id": "Q0vXvE58EqPi",
        "outputId": "22444c62-cebd-4de9-ea43-0033fbfe7e8a"
      },
      "execution_count": 10,
      "outputs": [
        {
          "output_type": "display_data",
          "data": {
            "text/plain": [
              "<Figure size 432x288 with 1 Axes>"
            ],
            "image/png": "[encoded data removed]"
          },
          "metadata": {
            "needs_background": "light"
          }
        }
      ]
    },
    {
      "cell_type": "markdown",
      "source": [
        "Inference: Both the losses are decreasing. Training loss first has a steep downward slope then it gradually becomes stable. Similiarly, for the validation loss it drops down and then stabilizes. Also both the graphs are near to each other. Hence we can conclude that it is a good model."
      ],
      "metadata": {
        "id": "3dqtQmNZi1d6"
      }
    },
    {
      "cell_type": "markdown",
      "source": [
        "Q4:Using functional API build the following Wide & Deep Neural Network with the following \n",
        "architecture."
      ],
      "metadata": {
        "id": "zchL2qf6jWWy"
      }
    },
    {
      "cell_type": "code",
      "source": [
        "#specifying the inputs for the two paths\n",
        "input1=keras.Input((5,),name=\"Input_Layer_1\")  #wide path\n",
        "input2=keras.Input((6,),name=\"Input_Layer_2\")\n",
        "\n",
        "#deep path\n",
        "hidden_1=keras.layers.Dense(30,activation=\"relu\",name=\"Hidden_Layer_1\",kernel_regularizer=\"l2\")(input2) #we were getting an overfitted model,hence introduced regularization\n",
        "hidden_2=keras.layers.Dense(30,activation=\"relu\",name=\"Hidden_Layer_2\")(hidden_1)\n",
        "\n",
        "#concatenation of the hidden_layer_2 and input_layer_1\n",
        "concat=keras.layers.concatenate([hidden_2,input1])\n",
        "\n",
        "#final output layer\n",
        "output=keras.layers.Dense(1,activation=None,name=\"Output_Layer\",kernel_regularizer=\"l2\")(concat)"
      ],
      "metadata": {
        "id": "E5G2mcKRSTqh"
      },
      "execution_count": 11,
      "outputs": []
    },
    {
      "cell_type": "code",
      "source": [
        "#building the model\n",
        "func_model=keras.Model(inputs=[input1,input2],outputs=[output])"
      ],
      "metadata": {
        "id": "xNF8xfJsFQ1x"
      },
      "execution_count": 12,
      "outputs": []
    },
    {
      "cell_type": "code",
      "source": [
        "#Visualize the model as a graph\n",
        "keras.utils.plot_model(func_model,show_shapes=True)"
      ],
      "metadata": {
        "colab": {
          "base_uri": "https://localhost:8080/",
          "height": 533
        },
        "id": "-LC-jKzrSPxe",
        "outputId": "8584195e-ca42-4bf6-eee3-999e9ae962c0"
      },
      "execution_count": 13,
      "outputs": [
        {
          "output_type": "execute_result",
          "data": {
            "image/png": "[encoded data removed]",
            "text/plain": [
              "<IPython.core.display.Image object>"
            ]
          },
          "metadata": {},
          "execution_count": 13
        }
      ]
    },
    {
      "cell_type": "code",
      "source": [
        "#compiling the above model\n",
        "func_model.compile(loss=\"mse\",optimizer=keras.optimizers.Adam(learning_rate=0.001),metrics=[keras.metrics.RootMeanSquaredError()])"
      ],
      "metadata": {
        "id": "0NuPoYLSSl96"
      },
      "execution_count": 14,
      "outputs": []
    },
    {
      "cell_type": "code",
      "source": [
        "#np.hsplit help us to horizontally split the dataset\n",
        "x1=np.hsplit(X,np.array([5,8]))[0] \n",
        "x2=np.hsplit(X,np.array([2,8]))[1]\n",
        "print(x1.shape)\n",
        "print(x2.shape)"
      ],
      "metadata": {
        "colab": {
          "base_uri": "https://localhost:8080/"
        },
        "id": "BKdusrZ6Sq3M",
        "outputId": "3fa6af53-8388-45b6-bd30-1861bee1e97e"
      },
      "execution_count": 15,
      "outputs": [
        {
          "output_type": "stream",
          "name": "stdout",
          "text": [
            "(20640, 5)\n",
            "(20640, 6)\n"
          ]
        }
      ]
    },
    {
      "cell_type": "code",
      "source": [
        "#fitting the model\n",
        "history_m2=func_model.fit([x1,x2],y,epochs=20,batch_size=32,validation_split=0.15)"
      ],
      "metadata": {
        "colab": {
          "base_uri": "https://localhost:8080/"
        },
        "id": "onf05I5ESul-",
        "outputId": "26a4d50f-52cb-46d5-9ed9-eeb6f7549430"
      },
      "execution_count": 16,
      "outputs": [
        {
          "output_type": "stream",
          "name": "stdout",
          "text": [
            "Epoch 1/20\n",
            "549/549 [==============================] - 3s 4ms/step - loss: 1.1107 - root_mean_squared_error: 0.9987 - val_loss: 0.4819 - val_root_mean_squared_error: 0.6089\n",
            "Epoch 2/20\n",
            "549/549 [==============================] - 2s 3ms/step - loss: 0.5825 - root_mean_squared_error: 0.6894 - val_loss: 0.4471 - val_root_mean_squared_error: 0.5880\n",
            "Epoch 3/20\n",
            "549/549 [==============================] - 2s 3ms/step - loss: 0.5369 - root_mean_squared_error: 0.6643 - val_loss: 0.4427 - val_root_mean_squared_error: 0.5941\n",
            "Epoch 4/20\n",
            "549/549 [==============================] - 2s 3ms/step - loss: 0.5151 - root_mean_squared_error: 0.6553 - val_loss: 0.4233 - val_root_mean_squared_error: 0.5841\n",
            "Epoch 5/20\n",
            "549/549 [==============================] - 2s 4ms/step - loss: 0.4961 - root_mean_squared_error: 0.6453 - val_loss: 0.4375 - val_root_mean_squared_error: 0.6008\n",
            "Epoch 6/20\n",
            "549/549 [==============================] - 2s 3ms/step - loss: 0.4775 - root_mean_squared_error: 0.6342 - val_loss: 0.4285 - val_root_mean_squared_error: 0.5955\n",
            "Epoch 7/20\n",
            "549/549 [==============================] - 2s 3ms/step - loss: 0.4665 - root_mean_squared_error: 0.6275 - val_loss: 0.4012 - val_root_mean_squared_error: 0.5745\n",
            "Epoch 8/20\n",
            "549/549 [==============================] - 2s 4ms/step - loss: 0.4510 - root_mean_squared_error: 0.6171 - val_loss: 0.3960 - val_root_mean_squared_error: 0.5711\n",
            "Epoch 9/20\n",
            "549/549 [==============================] - 2s 4ms/step - loss: 0.4398 - root_mean_squared_error: 0.6087 - val_loss: 0.3923 - val_root_mean_squared_error: 0.5703\n",
            "Epoch 10/20\n",
            "549/549 [==============================] - 2s 4ms/step - loss: 0.4377 - root_mean_squared_error: 0.6091 - val_loss: 0.4180 - val_root_mean_squared_error: 0.5932\n",
            "Epoch 11/20\n",
            "549/549 [==============================] - 2s 3ms/step - loss: 0.4278 - root_mean_squared_error: 0.6022 - val_loss: 0.4248 - val_root_mean_squared_error: 0.6003\n",
            "Epoch 12/20\n",
            "549/549 [==============================] - 2s 4ms/step - loss: 0.4213 - root_mean_squared_error: 0.5982 - val_loss: 0.3932 - val_root_mean_squared_error: 0.5750\n",
            "Epoch 13/20\n",
            "549/549 [==============================] - 2s 3ms/step - loss: 0.4148 - root_mean_squared_error: 0.5941 - val_loss: 0.4316 - val_root_mean_squared_error: 0.6084\n",
            "Epoch 14/20\n",
            "549/549 [==============================] - 2s 4ms/step - loss: 0.4131 - root_mean_squared_error: 0.5938 - val_loss: 0.4183 - val_root_mean_squared_error: 0.5984\n",
            "Epoch 15/20\n",
            "549/549 [==============================] - 2s 3ms/step - loss: 0.4079 - root_mean_squared_error: 0.5906 - val_loss: 0.4080 - val_root_mean_squared_error: 0.5916\n",
            "Epoch 16/20\n",
            "549/549 [==============================] - 2s 3ms/step - loss: 0.4077 - root_mean_squared_error: 0.5918 - val_loss: 0.3858 - val_root_mean_squared_error: 0.5736\n",
            "Epoch 17/20\n",
            "549/549 [==============================] - 2s 4ms/step - loss: 0.4024 - root_mean_squared_error: 0.5882 - val_loss: 0.3841 - val_root_mean_squared_error: 0.5734\n",
            "Epoch 18/20\n",
            "549/549 [==============================] - 2s 4ms/step - loss: 0.3987 - root_mean_squared_error: 0.5862 - val_loss: 0.3737 - val_root_mean_squared_error: 0.5653\n",
            "Epoch 19/20\n",
            "549/549 [==============================] - 2s 3ms/step - loss: 0.3971 - root_mean_squared_error: 0.5858 - val_loss: 0.3806 - val_root_mean_squared_error: 0.5720\n",
            "Epoch 20/20\n",
            "549/549 [==============================] - 2s 4ms/step - loss: 0.3937 - root_mean_squared_error: 0.5837 - val_loss: 0.3931 - val_root_mean_squared_error: 0.5836\n"
          ]
        }
      ]
    },
    {
      "cell_type": "code",
      "source": [
        "#visualizing the training vs validation loss\n",
        "loss=history_m2.history['loss']\n",
        "val_loss=history_m2.history['val_loss']\n",
        "plt.plot(loss)\n",
        "plt.plot(val_loss)\n",
        "plt.title('Training and validation loss')\n",
        "plt.ylabel('loss')\n",
        "plt.xlabel('epoch')\n",
        "plt.legend(['train','validation'],loc='upper left')\n",
        "plt.show()"
      ],
      "metadata": {
        "colab": {
          "base_uri": "https://localhost:8080/",
          "height": 295
        },
        "id": "d1oYIzs2cpnC",
        "outputId": "849c9573-c69f-42f9-b331-4681eddba2de"
      },
      "execution_count": 17,
      "outputs": [
        {
          "output_type": "display_data",
          "data": {
            "text/plain": [
              "<Figure size 432x288 with 1 Axes>"
            ],
            "image/png": "[encoded data removed]"
          },
          "metadata": {
            "needs_background": "light"
          }
        }
      ]
    },
    {
      "cell_type": "markdown",
      "source": [
        "Inference: This graph is also showing similar trends as the above graph. But there is a slight differnce as both the curves are not very close to each other and the validation loss curve is a bit unstabilized.\n",
        "But considering the rmse values we can conclude that this model can also be considered as a good model.\n"
      ],
      "metadata": {
        "id": "ZbSOz8FekxSi"
      }
    },
    {
      "cell_type": "code",
      "source": [],
      "metadata": {
        "id": "b_1LAyfJmVsZ"
      },
      "execution_count": 17,
      "outputs": []
    }
  ]
}